{
 "cells": [
  {
   "cell_type": "markdown",
   "metadata": {},
   "source": [
    "# How to check if a word is a palindrome in Python?\n",
    "What would be an elegant and efficient way to check if a string is a palindrome (i.e., the reversed string is equal to the original string) in Python? Does the approach vary when considering best-case vs. worst-case scenarios?"
   ]
  },
  {
   "cell_type": "markdown",
   "metadata": {},
   "source": [
    "# Answer"
   ]
  },
  {
   "cell_type": "markdown",
   "metadata": {},
   "source": [
    "One possible solution is:"
   ]
  },
  {
   "cell_type": "code",
   "execution_count": 1,
   "metadata": {},
   "outputs": [],
   "source": [
    "def pali_rev(word: str) -> bool:\n",
    "    assert type(word) == str, \"Word must be a string!\"\n",
    "    length = len(word)\n",
    "    # 'reversed' is a built-in Python function that returns a generator yielding the characters in reverse order.\n",
    "    for i, j in zip(word[:length // 2], reversed(word[-length // 2:])):  # Only check up to the middle of the word\n",
    "        if i != j:\n",
    "            return False  # Exit the function if a character does not match\n",
    "    return True  # Return True if the entire word was checked without finding a mismatch"
   ]
  },
  {
   "cell_type": "code",
   "execution_count": 2,
   "metadata": {},
   "outputs": [],
   "source": [
    "import numpy as np\n",
    "string = np.random.randint(0, 10, 1000).astype(str)\n",
    "long_no_pali = ''\n",
    "for a in string:\n",
    "    long_no_pali += a\n",
    "# Creating a non-palindrome by sandwiching a non-palindrome 'word' between two long sequences of 'a'\n",
    "long_no_pali = 'a' * 1000 + long_no_pali + 'a' * 1000\n"
   ]
  },
  {
   "cell_type": "code",
   "execution_count": 7,
   "metadata": {},
   "outputs": [
    {
     "name": "stdout",
     "output_type": "stream",
     "text": [
      "44.2 µs ± 211 ns per loop (mean ± std. dev. of 7 runs, 10,000 loops each)\n"
     ]
    }
   ],
   "source": [
    "%%timeit\n",
    "x = pali_rev(long_no_pali)\n",
    "assert x == False"
   ]
  },
  {
   "cell_type": "markdown",
   "metadata": {},
   "source": [
    "It's pretty fast, even in this case. In the [original](http://prorum.com/?qa=6598/como-checar-se-uma-palavra-e-palindromo-no-python), Python 3.11 was not available, and I got 712 µs in this case. I think this was what sped up things the most."
   ]
  },
  {
   "cell_type": "markdown",
   "metadata": {},
   "source": [
    "With a long palindrome:"
   ]
  },
  {
   "cell_type": "code",
   "execution_count": 5,
   "metadata": {},
   "outputs": [],
   "source": [
    "long_pali = 'a'*30000"
   ]
  },
  {
   "cell_type": "code",
   "execution_count": 8,
   "metadata": {},
   "outputs": [
    {
     "name": "stdout",
     "output_type": "stream",
     "text": [
      "706 µs ± 38 µs per loop (mean ± std. dev. of 7 runs, 1,000 loops each)\n"
     ]
    }
   ],
   "source": [
    "%%timeit\n",
    "x = pali_rev(long_pali)\n",
    "assert x == True"
   ]
  },
  {
   "cell_type": "markdown",
   "metadata": {},
   "source": [
    "This is also faster than the original (999 µs), but not as much."
   ]
  }
 ],
 "metadata": {
  "kernelspec": {
   "display_name": "base",
   "language": "python",
   "name": "python3"
  },
  "language_info": {
   "codemirror_mode": {
    "name": "ipython",
    "version": 3
   },
   "file_extension": ".py",
   "mimetype": "text/x-python",
   "name": "python",
   "nbconvert_exporter": "python",
   "pygments_lexer": "ipython3",
   "version": "3.11.7"
  }
 },
 "nbformat": 4,
 "nbformat_minor": 2
}
