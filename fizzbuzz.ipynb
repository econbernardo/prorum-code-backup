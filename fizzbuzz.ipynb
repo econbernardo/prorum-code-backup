{
 "cells": [
  {
   "cell_type": "markdown",
   "metadata": {},
   "source": [
    "Original: http://prorum.com/?qa=6567/como-voce-resolveria-o-problema-fizzbuzz&show=6567#q6567"
   ]
  },
  {
   "cell_type": "markdown",
   "metadata": {},
   "source": [
    "# How would you solve the \"FizzBuzz\" problem?\n",
    "\n",
    "A common interview question for programmers is to ask them to implement FizzBuzz:\n",
    "\n",
    "For every integer from 1 to 100, if the number is divisible by 3 and not by 5, return \"Fizz\"; if it is divisible by 5 and not by 3, return \"Buzz\"; if it is divisible by both 3 and 5, return \"FizzBuzz\"; otherwise, return the number.\n",
    "\n",
    "Although it is simple, an elegant implementation that is easy to maintain and modify can be challenging. Interestingly, most computer science graduates take more than a few minutes to come up with a solution.\n",
    "\n",
    "What would be your solution for the problem?\n"
   ]
  },
  {
   "cell_type": "markdown",
   "metadata": {},
   "source": [
    "# Answer"
   ]
  },
  {
   "cell_type": "markdown",
   "metadata": {},
   "source": [
    "My solution would be something like:"
   ]
  },
  {
   "cell_type": "code",
   "execution_count": 1,
   "metadata": {},
   "outputs": [],
   "source": [
    "def FizzBuzz(dividend: int, divisor: int, word: str):\n",
    "    '''\n",
    "    Checks if the number is of the special type (FizzBuzz). \n",
    "    If so, returns the name of that type (\"Fizz\" or \"Buzz\"). \n",
    "    Otherwise, returns an empty string.\n",
    "    '''\n",
    "    if dividend % divisor == 0:\n",
    "        return word\n",
    "    else:\n",
    "        return ''"
   ]
  },
  {
   "cell_type": "markdown",
   "metadata": {},
   "source": [
    "Using string concatenation, we separately check whether the dividend is divisible by the specific divisor for FizzBuzz, combining the strings if it applies for both 3 and 5. In other cases, we simply replace the temporary variable x with the iteration integer.\n"
   ]
  },
  {
   "cell_type": "code",
   "execution_count": 2,
   "metadata": {},
   "outputs": [
    {
     "name": "stdout",
     "output_type": "stream",
     "text": [
      "i = 1 -> 1\n",
      "i = 2 -> 2\n",
      "i = 3 -> Fizz\n",
      "i = 4 -> 4\n",
      "i = 5 -> Buzz\n",
      "i = 6 -> Fizz\n",
      "i = 7 -> 7\n",
      "i = 8 -> 8\n",
      "i = 9 -> Fizz\n",
      "i = 10 -> Buzz\n",
      "i = 11 -> 11\n",
      "i = 12 -> Fizz\n",
      "i = 13 -> 13\n",
      "i = 14 -> 14\n",
      "i = 15 -> FizzBuzz\n",
      "i = 16 -> 16\n",
      "i = 17 -> 17\n",
      "i = 18 -> Fizz\n",
      "i = 19 -> 19\n",
      "i = 20 -> Buzz\n",
      "i = 21 -> Fizz\n",
      "i = 22 -> 22\n",
      "i = 23 -> 23\n",
      "i = 24 -> Fizz\n",
      "i = 25 -> Buzz\n",
      "i = 26 -> 26\n",
      "i = 27 -> Fizz\n",
      "i = 28 -> 28\n",
      "i = 29 -> 29\n",
      "i = 30 -> FizzBuzz\n",
      "i = 31 -> 31\n",
      "i = 32 -> 32\n",
      "i = 33 -> Fizz\n",
      "i = 34 -> 34\n",
      "i = 35 -> Buzz\n",
      "i = 36 -> Fizz\n",
      "i = 37 -> 37\n",
      "i = 38 -> 38\n",
      "i = 39 -> Fizz\n",
      "i = 40 -> Buzz\n",
      "i = 41 -> 41\n",
      "i = 42 -> Fizz\n",
      "i = 43 -> 43\n",
      "i = 44 -> 44\n",
      "i = 45 -> FizzBuzz\n",
      "i = 46 -> 46\n",
      "i = 47 -> 47\n",
      "i = 48 -> Fizz\n",
      "i = 49 -> 49\n",
      "i = 50 -> Buzz\n",
      "i = 51 -> Fizz\n",
      "i = 52 -> 52\n",
      "i = 53 -> 53\n",
      "i = 54 -> Fizz\n",
      "i = 55 -> Buzz\n",
      "i = 56 -> 56\n",
      "i = 57 -> Fizz\n",
      "i = 58 -> 58\n",
      "i = 59 -> 59\n",
      "i = 60 -> FizzBuzz\n",
      "i = 61 -> 61\n",
      "i = 62 -> 62\n",
      "i = 63 -> Fizz\n",
      "i = 64 -> 64\n",
      "i = 65 -> Buzz\n",
      "i = 66 -> Fizz\n",
      "i = 67 -> 67\n",
      "i = 68 -> 68\n",
      "i = 69 -> Fizz\n",
      "i = 70 -> Buzz\n",
      "i = 71 -> 71\n",
      "i = 72 -> Fizz\n",
      "i = 73 -> 73\n",
      "i = 74 -> 74\n",
      "i = 75 -> FizzBuzz\n",
      "i = 76 -> 76\n",
      "i = 77 -> 77\n",
      "i = 78 -> Fizz\n",
      "i = 79 -> 79\n",
      "i = 80 -> Buzz\n",
      "i = 81 -> Fizz\n",
      "i = 82 -> 82\n",
      "i = 83 -> 83\n",
      "i = 84 -> Fizz\n",
      "i = 85 -> Buzz\n",
      "i = 86 -> 86\n",
      "i = 87 -> Fizz\n",
      "i = 88 -> 88\n",
      "i = 89 -> 89\n",
      "i = 90 -> FizzBuzz\n",
      "i = 91 -> 91\n",
      "i = 92 -> 92\n",
      "i = 93 -> Fizz\n",
      "i = 94 -> 94\n",
      "i = 95 -> Buzz\n",
      "i = 96 -> Fizz\n",
      "i = 97 -> 97\n",
      "i = 98 -> 98\n",
      "i = 99 -> Fizz\n",
      "i = 100 -> Buzz\n"
     ]
    }
   ],
   "source": [
    "for i in range(1, 101):\n",
    "    x = FizzBuzz(i, 3, 'Fizz') + FizzBuzz(i, 5, 'Buzz')  # Using string concatenation!\n",
    "    if x == '':\n",
    "        x = str(i)  # If the string is empty, replace x with the iteration number\n",
    "    print(f'i = {i} -> {x}')  # f-string to display the iteration number and the output from the FizzBuzz function"
   ]
  },
  {
   "cell_type": "code",
   "execution_count": null,
   "metadata": {},
   "outputs": [],
   "source": []
  }
 ],
 "metadata": {
  "kernelspec": {
   "display_name": "base",
   "language": "python",
   "name": "python3"
  },
  "language_info": {
   "codemirror_mode": {
    "name": "ipython",
    "version": 3
   },
   "file_extension": ".py",
   "mimetype": "text/x-python",
   "name": "python",
   "nbconvert_exporter": "python",
   "pygments_lexer": "ipython3",
   "version": "3.11.7"
  }
 },
 "nbformat": 4,
 "nbformat_minor": 2
}
